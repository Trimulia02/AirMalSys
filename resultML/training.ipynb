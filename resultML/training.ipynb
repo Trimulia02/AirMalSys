{
 "cells": [
  {
   "cell_type": "code",
   "execution_count": 18,
   "id": "c433bd1f",
   "metadata": {},
   "outputs": [],
   "source": [
    "import os\n",
    "import pandas as pd\n",
    "import torch\n",
    "from torch.utils.data import DataLoader\n",
    "from sklearn.model_selection import train_test_split\n",
    "from sklearn.metrics import accuracy_score, f1_score, confusion_matrix, classification_report\n",
    "\n",
    "from config import Config, MulticlassConfig\n",
    "from preprocessing import (\n",
    "    build_vocab, save_vocab, load_vocab,\n",
    "    build_scaler, save_scaler, load_scaler,\n",
    "    build_label_encoder, save_label_encoder, load_label_encoder,\n",
    "    MalwareDataset\n",
    ")\n",
    "from model import BiLSTM\n",
    "import seaborn as sns\n",
    "import matplotlib.pyplot as plt\n",
    "import warnings\n",
    "import numpy as np\n",
    "warnings.filterwarnings('ignore')"
   ]
  },
  {
   "cell_type": "code",
   "execution_count": 19,
   "id": "3f29a61f",
   "metadata": {},
   "outputs": [
    {
     "name": "stdout",
     "output_type": "stream",
     "text": [
      "Mode: multiclass\n"
     ]
    }
   ],
   "source": [
    "mode = input(\"Pilih mode (1=binary, 2=multiclass): \").strip()\n",
    "\n",
    "if mode == \"1\":\n",
    "    cfg = Config()\n",
    "    model_name = \"binary_model.pth\"\n",
    "    data_files = [\"fitur_benign.csv\", \"fitur_malware.csv\"]\n",
    "    file_label_map = {\n",
    "        \"fitur_benign.csv\": 0,\n",
    "        \"fitur_malware.csv\": 1\n",
    "    }\n",
    "    print(\"Mode: binary\")\n",
    "elif mode == \"2\":\n",
    "    cfg = MulticlassConfig()\n",
    "    model_name = \"multiclass_model.pth\"\n",
    "    data_files = [\n",
    "        \"fitur_Adware.csv\",\n",
    "        \"fitur_coinminer.csv\",\n",
    "        \"fitur_Keylogger.csv\",\n",
    "        \"fitur_Ransomware.csv\",\n",
    "        \"fitur_Trojan.csv\",\n",
    "        \"fitur_Dropper.csv\",\n",
    "        \"fitur_RAT.csv\",\n",
    "        \"fitur_BOTNET.csv\",\n",
    "        \"fitur_Other.csv\",\n",
    "        \"fitur_Stealer.csv\",\n",
    "        \"fitur_Crypto.csv\"\n",
    "    ]\n",
    "    file_label_map = {\n",
    "        fname: os.path.splitext(fname)[0].split(\"_\")[1].lower()\n",
    "        for fname in data_files\n",
    "    }\n",
    "    print(\"Mode: multiclass\")\n",
    "\n",
    "max_len = cfg.max_length\n",
    "batch_size = cfg.batch_size\n",
    "epochs = cfg.epochs\n",
    "lr = cfg.learning_rate\n"
   ]
  },
  {
   "cell_type": "code",
   "execution_count": 20,
   "id": "77701a3e",
   "metadata": {},
   "outputs": [],
   "source": [
    "ARTIFACT_DIR = \"artifacts\"\n",
    "VOCAB_PATH = os.path.join(ARTIFACT_DIR, \"vocab.pkl\")\n",
    "SCALER_PATH = os.path.join(ARTIFACT_DIR, \"scaler.pkl\")\n",
    "LABEL_ENCODER_PATH = os.path.join(ARTIFACT_DIR, \"label_encoder.pkl\")\n",
    "MODEL_PATH = os.path.join(ARTIFACT_DIR, model_name)"
   ]
  },
  {
   "cell_type": "code",
   "execution_count": 21,
   "id": "c4292df2",
   "metadata": {},
   "outputs": [],
   "source": [
    "df_list = []\n",
    "for fname in data_files:\n",
    "    df_i = pd.read_csv(os.path.join(fname))\n",
    "    df_i[\"label\"] = file_label_map[fname]\n",
    "    df_list.append(df_i)\n",
    "df = pd.concat(df_list, ignore_index=True)\n",
    "\n",
    "sequence_cols = [\n",
    "    'exec_processes_seq', 'exec_paths_seq', 'dns_queries_seq',\n",
    "    'udp_ports_seq', 'hosts_seq', 'sig_names_seq'\n",
    "]\n",
    "seqs = []\n",
    "for _, row in df.iterrows():\n",
    "    parts = [\n",
    "        str(row[col]) for col in sequence_cols\n",
    "        if pd.notna(row[col]) and row[col] != \"\"\n",
    "    ]\n",
    "    seqs.append(';'.join(parts))\n",
    "\n",
    "numeric_cols = ['num_execs', 'num_unique_execs', 'num_dns_queries', 'num_udp_packets']\n",
    "nums = df[numeric_cols].fillna(0).values\n",
    "\n",
    "labels = df['label'].tolist()\n",
    "\n",
    "s_tr, s_te, n_tr, n_te, y_tr, y_te = train_test_split(\n",
    "    seqs, nums, labels,\n",
    "    test_size=0.2,\n",
    "    random_state=42,\n",
    "    stratify=labels\n",
    ")\n",
    "\n",
    "s_tr, s_val, n_tr, n_val, y_tr, y_val = train_test_split(\n",
    "    s_tr, n_tr, y_tr,\n",
    "    test_size=0.1,\n",
    "    random_state=42,\n",
    "    stratify=y_tr\n",
    ")"
   ]
  },
  {
   "cell_type": "code",
   "execution_count": 22,
   "id": "de9cfdbd",
   "metadata": {},
   "outputs": [],
   "source": [
    "if mode == 1:\n",
    "    vocab = build_vocab(s_tr)\n",
    "    save_vocab(vocab, VOCAB_PATH)\n",
    "    scaler = build_scaler(n_tr)\n",
    "    save_scaler(scaler, SCALER_PATH)\n",
    "else:\n",
    "    le = build_label_encoder(y_tr)\n",
    "    save_label_encoder(le, LABEL_ENCODER_PATH)"
   ]
  },
  {
   "cell_type": "code",
   "execution_count": 23,
   "id": "b3cce4a7",
   "metadata": {},
   "outputs": [
    {
     "name": "stdout",
     "output_type": "stream",
     "text": [
      "Datasets → train: 774, val: 86, test: 215\n"
     ]
    }
   ],
   "source": [
    "vocab = load_vocab(VOCAB_PATH)\n",
    "scaler = load_scaler(SCALER_PATH)\n",
    "le = load_label_encoder(LABEL_ENCODER_PATH)\n",
    "\n",
    "train_ds = MalwareDataset(s_tr, n_tr, y_tr, vocab, scaler, le, cfg.max_length)\n",
    "val_ds   = MalwareDataset(s_val, n_val, y_val, vocab, scaler, le, cfg.max_length)\n",
    "test_ds  = MalwareDataset(s_te, n_te, y_te, vocab, scaler, le, cfg.max_length)\n",
    "\n",
    "train_loader = DataLoader(train_ds, batch_size=cfg.batch_size, shuffle=True)\n",
    "val_loader   = DataLoader(val_ds,   batch_size=cfg.batch_size)\n",
    "test_loader  = DataLoader(test_ds,  batch_size=cfg.batch_size)\n",
    "\n",
    "print(f\"Datasets → train: {len(train_ds)}, val: {len(val_ds)}, test: {len(test_ds)}\")"
   ]
  },
  {
   "cell_type": "code",
   "execution_count": null,
   "id": "e29829b1",
   "metadata": {},
   "outputs": [],
   "source": [
    "device = cfg.device\n",
    "model = BiLSTM(vocab_size=len(vocab), cfg=cfg).to(cfg.device)\n",
    "criterion = torch.nn.CrossEntropyLoss()\n",
    "optimizer = torch.optim.Adam(model.parameters(), lr=cfg.learning_rate)"
   ]
  },
  {
   "cell_type": "code",
   "execution_count": null,
   "id": "6c23dc2b",
   "metadata": {},
   "outputs": [
    {
     "name": "stdout",
     "output_type": "stream",
     "text": [
      "Epoch 1/20 | Train: 27.8% (2.0807) | Val: 33.7% (1.9412)\n",
      "Multiclass model saved to 'artifacts/' folder (best so far)\n",
      "Epoch 2/20 | Train: 43.4% (1.6391) | Val: 43.0% (1.8149)\n",
      "Multiclass model saved to 'artifacts/' folder (best so far)\n",
      "Epoch 3/20 | Train: 50.5% (1.4956) | Val: 43.0% (1.7894)\n",
      "Epoch 4/20 | Train: 56.3% (1.3680) | Val: 47.7% (1.6158)\n",
      "Multiclass model saved to 'artifacts/' folder (best so far)\n",
      "Epoch 5/20 | Train: 58.8% (1.2512) | Val: 47.7% (1.6562)\n",
      "Epoch 6/20 | Train: 60.3% (1.1419) | Val: 53.5% (1.5625)\n",
      "Multiclass model saved to 'artifacts/' folder (best so far)\n",
      "Epoch 7/20 | Train: 64.2% (1.0701) | Val: 52.3% (1.5292)\n",
      "Epoch 8/20 | Train: 64.2% (1.0062) | Val: 53.5% (1.4538)\n",
      "Epoch 9/20 | Train: 67.4% (0.9307) | Val: 50.0% (1.4900)\n",
      "Epoch 10/20 | Train: 69.6% (0.8621) | Val: 54.7% (1.4562)\n",
      "Multiclass model saved to 'artifacts/' folder (best so far)\n",
      "Epoch 11/20 | Train: 69.4% (0.8372) | Val: 57.0% (1.3657)\n",
      "Multiclass model saved to 'artifacts/' folder (best so far)\n",
      "Epoch 12/20 | Train: 72.5% (0.7780) | Val: 61.6% (1.4057)\n",
      "Multiclass model saved to 'artifacts/' folder (best so far)\n",
      "Epoch 13/20 | Train: 72.6% (0.7252) | Val: 58.1% (1.4773)\n",
      "Epoch 14/20 | Train: 73.3% (0.7177) | Val: 53.5% (1.4578)\n",
      "Epoch 15/20 | Train: 75.1% (0.6895) | Val: 59.3% (1.3875)\n",
      "Epoch 16/20 | Train: 75.7% (0.6600) | Val: 60.5% (1.3854)\n",
      "Epoch 17/20 | Train: 75.1% (0.6442) | Val: 59.3% (1.4446)\n",
      "Epoch 18/20 | Train: 78.9% (0.5871) | Val: 62.8% (1.4446)\n",
      "Multiclass model saved to 'artifacts/' folder (best so far)\n",
      "Epoch 19/20 | Train: 79.2% (0.5726) | Val: 59.3% (1.4299)\n",
      "Epoch 20/20 | Train: 79.3% (0.5749) | Val: 59.3% (1.4737)\n"
     ]
    }
   ],
   "source": [
    "best_val_acc = 0.0\n",
    "for ep in range(epochs):\n",
    "    model.train()\n",
    "    train_loss = correct = total = 0\n",
    "    for batch in train_loader:\n",
    "        seq, num, lbl = batch[\"sequence\"], batch[\"numeric\"], batch[\"label\"]\n",
    "        seq, num, lbl = seq.to(device), num.to(device), lbl.to(device)\n",
    "\n",
    "        optimizer.zero_grad()\n",
    "        logits = model(seq, num)\n",
    "        loss = criterion(logits, lbl)\n",
    "        loss.backward()\n",
    "        optimizer.step()\n",
    "\n",
    "        train_loss += loss.item() * seq.size(0)\n",
    "        if cfg.num_classes == 2:\n",
    "            probs = torch.softmax(logits, dim=1)[:,1]\n",
    "            preds = (probs > cfg.threshold).long()\n",
    "        else:\n",
    "            preds = logits.argmax(dim=1)\n",
    "        correct   += (preds == lbl).sum().item()\n",
    "        total     += seq.size(0)\n",
    "\n",
    "    train_loss /= total\n",
    "    train_acc   = 100 * correct / total\n",
    "\n",
    "    # Validation\n",
    "    model.eval()\n",
    "    val_loss = correct = total = 0\n",
    "    with torch.no_grad():\n",
    "        for batch in val_loader:                # ← pakai val_loader\n",
    "            seq, num, lbl = batch[\"sequence\"], batch[\"numeric\"], batch[\"label\"]\n",
    "            seq, num, lbl = seq.to(device), num.to(device), lbl.to(device)\n",
    "\n",
    "            logits = model(seq, num)\n",
    "            loss = criterion(logits, lbl)\n",
    "            val_loss += loss.item() * seq.size(0)\n",
    "\n",
    "            # untuk binary, threshold, kalau multiclass argmax\n",
    "            if cfg.num_classes == 2:\n",
    "                probs = torch.softmax(logits, dim=1)[:,1]\n",
    "                preds = (probs > cfg.threshold).long()\n",
    "            else:\n",
    "                preds = logits.argmax(dim=1)\n",
    "\n",
    "            correct += (preds == lbl).sum().item()\n",
    "            total   += seq.size(0)\n",
    "\n",
    "    val_loss /= total\n",
    "    val_acc   = 100 * correct / total\n",
    "\n",
    "    print(f\"Epoch {ep+1}/{epochs} | Train: {train_acc:.1f}% ({train_loss:.4f}) | Val: {val_acc:.1f}% ({val_loss:.4f})\")\n",
    "\n",
    "    if val_acc > best_val_acc:\n",
    "        best_val_acc = val_acc\n",
    "        torch.save(model.state_dict(), MODEL_PATH)\n",
    "        tag = \"Binary\" if cfg.num_classes==2 else \"Multiclass\"\n",
    "        print(f\"{tag} model saved to '{ARTIFACT_DIR}/' folder (best so far)\")"
   ]
  },
  {
   "cell_type": "code",
   "execution_count": null,
   "id": "f9cae71d",
   "metadata": {},
   "outputs": [
    {
     "name": "stdout",
     "output_type": "stream",
     "text": [
      "Training done! Best Val accuracy: 62.8%\n",
      "Training done! Model saved to artifacts\\multiclass_model.pth\n",
      "Model saved to artifacts\\multiclass_model.pth\n"
     ]
    }
   ],
   "source": [
    "print(f\"Training done! Best Val accuracy: {best_val_acc:.1f}%\")\n",
    "torch.save(model.state_dict(), MODEL_PATH)\n",
    "print(f\"Training done! Model saved to {MODEL_PATH}\")\n",
    "torch.save(model.state_dict(), MODEL_PATH)\n",
    "print(f\"Model saved to {MODEL_PATH}\")"
   ]
  },
  {
   "cell_type": "code",
   "execution_count": null,
   "id": "323fc3d0",
   "metadata": {},
   "outputs": [
    {
     "name": "stdout",
     "output_type": "stream",
     "text": [
      "– Dataset size: 215\n",
      "– Collected preds: 215, labels: 215\n",
      "\n",
      "Test Accuracy : 63.26%\n",
      "Test F1-macro : 0.6224\n"
     ]
    },
    {
     "data": {
      "image/png": "[encoded data removed]",
      "text/plain": [
       "<Figure size 600x500 with 2 Axes>"
      ]
     },
     "metadata": {},
     "output_type": "display_data"
    },
    {
     "name": "stdout",
     "output_type": "stream",
     "text": [
      "\n",
      "Classification Report:\n",
      "              precision    recall  f1-score   support\n",
      "\n",
      "      adware       0.48      0.70      0.57        20\n",
      "      botnet       0.67      0.64      0.65        22\n",
      "   coinminer       0.64      0.61      0.62        23\n",
      "      crypto       0.67      0.60      0.63        10\n",
      "     dropper       0.71      0.50      0.59        24\n",
      "   keylogger       0.86      0.86      0.86        21\n",
      "       other       0.76      0.54      0.63        24\n",
      "  ransomware       0.40      0.38      0.39        21\n",
      "         rat       0.92      0.96      0.94        24\n",
      "     stealer       0.50      0.50      0.50         2\n",
      "      trojan       0.41      0.54      0.46        24\n",
      "\n",
      "    accuracy                           0.63       215\n",
      "   macro avg       0.64      0.62      0.62       215\n",
      "weighted avg       0.65      0.63      0.63       215\n",
      "\n"
     ]
    }
   ],
   "source": [
    "model.load_state_dict(torch.load(MODEL_PATH, map_location=device))\n",
    "model.eval()\n",
    "\n",
    "all_preds, all_labels = [], []\n",
    "\n",
    "with torch.no_grad():\n",
    "    for batch in test_loader:\n",
    "        seq = batch[\"sequence\"].to(device)\n",
    "        num = batch[\"numeric\"].to(device)\n",
    "        lbl = batch[\"label\"].to(device)\n",
    "\n",
    "        logits = model(seq, num) if hasattr(model, \"classifier\") else model(seq)\n",
    "\n",
    "        if cfg.num_classes == 2:\n",
    "            probs = torch.softmax(logits, dim=1)[:, 1]    # P(class=1)\n",
    "            preds = (probs > cfg.threshold).long()\n",
    "        else:\n",
    "            preds = logits.argmax(dim=1)\n",
    "\n",
    "        all_preds .extend(preds.cpu().numpy())\n",
    "        all_labels.extend(lbl.cpu().numpy())\n",
    "\n",
    "print(f\"– Dataset size: {len(test_loader.dataset)}\")\n",
    "print(f\"– Collected preds: {len(all_preds)}, labels: {len(all_labels)}\")\n",
    "\n",
    "acc      = accuracy_score(all_labels, all_preds) * 100\n",
    "f1_macro = f1_score(all_labels, all_preds, average=\"macro\")\n",
    "print(f\"\\nTest Accuracy : {acc:.2f}%\")\n",
    "print(f\"Test F1-macro : {f1_macro:.4f}\")\n",
    "\n",
    "cm = confusion_matrix(all_labels, all_preds)\n",
    "names = (le.classes_ if cfg.num_classes > 2 else [\"benign\",\"malware\"])\n",
    "plt.figure(figsize=(6,5))\n",
    "sns.heatmap(cm, annot=True, fmt=\"d\", cmap=\"Blues\",\n",
    "            xticklabels=names, yticklabels=names)\n",
    "plt.title(\"Confusion Matrix\")\n",
    "plt.xlabel(\"Predicted\")\n",
    "plt.ylabel(\"True Label\")\n",
    "plt.tight_layout()\n",
    "plt.show()\n",
    "\n",
    "print(\"\\nClassification Report:\")\n",
    "print(classification_report(all_labels, all_preds, target_names=names))"
   ]
  },
  {
   "cell_type": "code",
   "execution_count": null,
   "id": "d08b7358",
   "metadata": {},
   "outputs": [],
   "source": []
  }
 ],
 "metadata": {
  "kernelspec": {
   "display_name": "Python 3",
   "language": "python",
   "name": "python3"
  },
  "language_info": {
   "codemirror_mode": {
    "name": "ipython",
    "version": 3
   },
   "file_extension": ".py",
   "mimetype": "text/x-python",
   "name": "python",
   "nbconvert_exporter": "python",
   "pygments_lexer": "ipython3",
   "version": "3.13.3"
  }
 },
 "nbformat": 4,
 "nbformat_minor": 5
}
